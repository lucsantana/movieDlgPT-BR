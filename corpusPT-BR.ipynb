{
  "nbformat": 4,
  "nbformat_minor": 0,
  "metadata": {
    "interpreter": {
      "hash": "b3ba2566441a7c06988d0923437866b63cedc61552a5af99d1f4fb67d367b25f"
    },
    "kernelspec": {
      "display_name": "Python 3",
      "language": "python",
      "name": "python3"
    },
    "language_info": {
      "codemirror_mode": {
        "name": "ipython",
        "version": 3
      },
      "file_extension": ".py",
      "mimetype": "text/x-python",
      "name": "python",
      "nbconvert_exporter": "python",
      "pygments_lexer": "ipython3",
      "version": "3.7.6"
    },
    "colab": {
      "name": "corpusPT-BR.ipynb",
      "provenance": []
    }
  },
  "cells": [
    {
      "cell_type": "code",
      "metadata": {
        "colab": {
          "base_uri": "https://localhost:8080/",
          "height": 36
        },
        "id": "WdfsSiVrDWJq",
        "outputId": "5b472935-699a-48b9-ae26-3b27cdb394eb"
      },
      "source": [
        "pwd"
      ],
      "execution_count": 1,
      "outputs": [
        {
          "output_type": "execute_result",
          "data": {
            "application/vnd.google.colaboratory.intrinsic+json": {
              "type": "string"
            },
            "text/plain": [
              "'/content'"
            ]
          },
          "metadata": {},
          "execution_count": 1
        }
      ]
    },
    {
      "cell_type": "code",
      "metadata": {
        "id": "UjD2p2HMDWJx"
      },
      "source": [
        "%config IPCompleter.greedy=True"
      ],
      "execution_count": 2,
      "outputs": []
    },
    {
      "cell_type": "code",
      "metadata": {
        "id": "ELE5I8BwDWJz"
      },
      "source": [
        "caminho = 'D:\\DeepNLP\\base\\movie_titles_metadata.txt'\n",
        "\n",
        "arq = open(r'D:\\DeepNLP\\base\\movie_titles_metadata_new.txt')"
      ],
      "execution_count": null,
      "outputs": []
    },
    {
      "cell_type": "code",
      "metadata": {
        "id": "5RsZaD4ZDWJ1"
      },
      "source": [
        "arq.read()"
      ],
      "execution_count": null,
      "outputs": []
    },
    {
      "cell_type": "code",
      "metadata": {
        "id": "e7PDKeCLDWJ2"
      },
      "source": [
        "arq = open()\n"
      ],
      "execution_count": null,
      "outputs": []
    },
    {
      "cell_type": "code",
      "metadata": {
        "id": "vRUoouHxDWJ2"
      },
      "source": [
        "arq.seek(0)"
      ],
      "execution_count": null,
      "outputs": []
    },
    {
      "cell_type": "code",
      "metadata": {
        "id": "GB22I_p3DWJ3"
      },
      "source": [
        "conversas = open(r'D:\\DeepNLP\\base\\movie_conversations.txt', encoding='utf8').read().split('/n')\n",
        "type(conversas)\n",
        "conversas"
      ],
      "execution_count": null,
      "outputs": []
    },
    {
      "cell_type": "code",
      "metadata": {
        "id": "Krn0fUIqDWJ3"
      },
      "source": [
        "print(arq.read())"
      ],
      "execution_count": null,
      "outputs": []
    },
    {
      "cell_type": "code",
      "metadata": {
        "id": "l5cxfAV8DWJ4"
      },
      "source": [
        "import pandas as pd\n",
        "import re"
      ],
      "execution_count": 9,
      "outputs": []
    },
    {
      "cell_type": "code",
      "metadata": {
        "colab": {
          "base_uri": "https://localhost:8080/",
          "height": 582
        },
        "id": "8psXW1huDWJ7",
        "outputId": "38e25d68-0415-4ec7-c171-c166b4d41c24"
      },
      "source": [
        "#df = pd.read_csv(r'D:\\DeepNLP\\base\\movie_titles_metadata.txt',sep=' +++$+++ ')\n",
        "#df = pd.read_csv(r'D:\\DeepNLP\\base\\movie_titles_metadata_new.txt', header=None,  engine= 'python', sep=';')\n",
        "df = pd.read_csv('https://github.com/lucsantana/movieDlgPT-BR/blob/main/movie_titles_metadata_new.txt'  ,header=None,  sep=';')\n",
        "# correct Separator should be sep=' +++$+++ ' I've got an error, so I need to clean the results\n",
        "# I've change the original file to use \";\" as Separator"
      ],
      "execution_count": 11,
      "outputs": [
        {
          "output_type": "error",
          "ename": "ParserError",
          "evalue": "ignored",
          "traceback": [
            "\u001b[0;31m---------------------------------------------------------------------------\u001b[0m",
            "\u001b[0;31mParserError\u001b[0m                               Traceback (most recent call last)",
            "\u001b[0;32m<ipython-input-11-9558b5a81976>\u001b[0m in \u001b[0;36m<module>\u001b[0;34m()\u001b[0m\n\u001b[1;32m      1\u001b[0m \u001b[0;31m#df = pd.read_csv(r'D:\\DeepNLP\\base\\movie_titles_metadata.txt',sep=' +++$+++ ')\u001b[0m\u001b[0;34m\u001b[0m\u001b[0;34m\u001b[0m\u001b[0;34m\u001b[0m\u001b[0m\n\u001b[1;32m      2\u001b[0m \u001b[0;31m#df = pd.read_csv(r'D:\\DeepNLP\\base\\movie_titles_metadata_new.txt', header=None,  engine= 'python', sep=';')\u001b[0m\u001b[0;34m\u001b[0m\u001b[0;34m\u001b[0m\u001b[0;34m\u001b[0m\u001b[0m\n\u001b[0;32m----> 3\u001b[0;31m \u001b[0mdf\u001b[0m \u001b[0;34m=\u001b[0m \u001b[0mpd\u001b[0m\u001b[0;34m.\u001b[0m\u001b[0mread_csv\u001b[0m\u001b[0;34m(\u001b[0m\u001b[0;34m'https://github.com/lucsantana/movieDlgPT-BR/blob/main/movie_titles_metadata_new.txt'\u001b[0m  \u001b[0;34m,\u001b[0m\u001b[0mheader\u001b[0m\u001b[0;34m=\u001b[0m\u001b[0;32mNone\u001b[0m\u001b[0;34m,\u001b[0m  \u001b[0msep\u001b[0m\u001b[0;34m=\u001b[0m\u001b[0;34m';'\u001b[0m\u001b[0;34m)\u001b[0m\u001b[0;34m\u001b[0m\u001b[0;34m\u001b[0m\u001b[0m\n\u001b[0m\u001b[1;32m      4\u001b[0m \u001b[0;31m# correct Separator should be sep=' +++$+++ ' I've got an error, so I need to clean the results\u001b[0m\u001b[0;34m\u001b[0m\u001b[0;34m\u001b[0m\u001b[0;34m\u001b[0m\u001b[0m\n\u001b[1;32m      5\u001b[0m \u001b[0;31m# I've change the original file to use \";\" as Separator\u001b[0m\u001b[0;34m\u001b[0m\u001b[0;34m\u001b[0m\u001b[0;34m\u001b[0m\u001b[0m\n",
            "\u001b[0;32m/usr/local/lib/python3.7/dist-packages/pandas/io/parsers.py\u001b[0m in \u001b[0;36mread_csv\u001b[0;34m(filepath_or_buffer, sep, delimiter, header, names, index_col, usecols, squeeze, prefix, mangle_dupe_cols, dtype, engine, converters, true_values, false_values, skipinitialspace, skiprows, skipfooter, nrows, na_values, keep_default_na, na_filter, verbose, skip_blank_lines, parse_dates, infer_datetime_format, keep_date_col, date_parser, dayfirst, cache_dates, iterator, chunksize, compression, thousands, decimal, lineterminator, quotechar, quoting, doublequote, escapechar, comment, encoding, dialect, error_bad_lines, warn_bad_lines, delim_whitespace, low_memory, memory_map, float_precision)\u001b[0m\n\u001b[1;32m    686\u001b[0m     )\n\u001b[1;32m    687\u001b[0m \u001b[0;34m\u001b[0m\u001b[0m\n\u001b[0;32m--> 688\u001b[0;31m     \u001b[0;32mreturn\u001b[0m \u001b[0m_read\u001b[0m\u001b[0;34m(\u001b[0m\u001b[0mfilepath_or_buffer\u001b[0m\u001b[0;34m,\u001b[0m \u001b[0mkwds\u001b[0m\u001b[0;34m)\u001b[0m\u001b[0;34m\u001b[0m\u001b[0;34m\u001b[0m\u001b[0m\n\u001b[0m\u001b[1;32m    689\u001b[0m \u001b[0;34m\u001b[0m\u001b[0m\n\u001b[1;32m    690\u001b[0m \u001b[0;34m\u001b[0m\u001b[0m\n",
            "\u001b[0;32m/usr/local/lib/python3.7/dist-packages/pandas/io/parsers.py\u001b[0m in \u001b[0;36m_read\u001b[0;34m(filepath_or_buffer, kwds)\u001b[0m\n\u001b[1;32m    458\u001b[0m \u001b[0;34m\u001b[0m\u001b[0m\n\u001b[1;32m    459\u001b[0m     \u001b[0;32mtry\u001b[0m\u001b[0;34m:\u001b[0m\u001b[0;34m\u001b[0m\u001b[0;34m\u001b[0m\u001b[0m\n\u001b[0;32m--> 460\u001b[0;31m         \u001b[0mdata\u001b[0m \u001b[0;34m=\u001b[0m \u001b[0mparser\u001b[0m\u001b[0;34m.\u001b[0m\u001b[0mread\u001b[0m\u001b[0;34m(\u001b[0m\u001b[0mnrows\u001b[0m\u001b[0;34m)\u001b[0m\u001b[0;34m\u001b[0m\u001b[0;34m\u001b[0m\u001b[0m\n\u001b[0m\u001b[1;32m    461\u001b[0m     \u001b[0;32mfinally\u001b[0m\u001b[0;34m:\u001b[0m\u001b[0;34m\u001b[0m\u001b[0;34m\u001b[0m\u001b[0m\n\u001b[1;32m    462\u001b[0m         \u001b[0mparser\u001b[0m\u001b[0;34m.\u001b[0m\u001b[0mclose\u001b[0m\u001b[0;34m(\u001b[0m\u001b[0;34m)\u001b[0m\u001b[0;34m\u001b[0m\u001b[0;34m\u001b[0m\u001b[0m\n",
            "\u001b[0;32m/usr/local/lib/python3.7/dist-packages/pandas/io/parsers.py\u001b[0m in \u001b[0;36mread\u001b[0;34m(self, nrows)\u001b[0m\n\u001b[1;32m   1196\u001b[0m     \u001b[0;32mdef\u001b[0m \u001b[0mread\u001b[0m\u001b[0;34m(\u001b[0m\u001b[0mself\u001b[0m\u001b[0;34m,\u001b[0m \u001b[0mnrows\u001b[0m\u001b[0;34m=\u001b[0m\u001b[0;32mNone\u001b[0m\u001b[0;34m)\u001b[0m\u001b[0;34m:\u001b[0m\u001b[0;34m\u001b[0m\u001b[0;34m\u001b[0m\u001b[0m\n\u001b[1;32m   1197\u001b[0m         \u001b[0mnrows\u001b[0m \u001b[0;34m=\u001b[0m \u001b[0m_validate_integer\u001b[0m\u001b[0;34m(\u001b[0m\u001b[0;34m\"nrows\"\u001b[0m\u001b[0;34m,\u001b[0m \u001b[0mnrows\u001b[0m\u001b[0;34m)\u001b[0m\u001b[0;34m\u001b[0m\u001b[0;34m\u001b[0m\u001b[0m\n\u001b[0;32m-> 1198\u001b[0;31m         \u001b[0mret\u001b[0m \u001b[0;34m=\u001b[0m \u001b[0mself\u001b[0m\u001b[0;34m.\u001b[0m\u001b[0m_engine\u001b[0m\u001b[0;34m.\u001b[0m\u001b[0mread\u001b[0m\u001b[0;34m(\u001b[0m\u001b[0mnrows\u001b[0m\u001b[0;34m)\u001b[0m\u001b[0;34m\u001b[0m\u001b[0;34m\u001b[0m\u001b[0m\n\u001b[0m\u001b[1;32m   1199\u001b[0m \u001b[0;34m\u001b[0m\u001b[0m\n\u001b[1;32m   1200\u001b[0m         \u001b[0;31m# May alter columns / col_dict\u001b[0m\u001b[0;34m\u001b[0m\u001b[0;34m\u001b[0m\u001b[0;34m\u001b[0m\u001b[0m\n",
            "\u001b[0;32m/usr/local/lib/python3.7/dist-packages/pandas/io/parsers.py\u001b[0m in \u001b[0;36mread\u001b[0;34m(self, nrows)\u001b[0m\n\u001b[1;32m   2155\u001b[0m     \u001b[0;32mdef\u001b[0m \u001b[0mread\u001b[0m\u001b[0;34m(\u001b[0m\u001b[0mself\u001b[0m\u001b[0;34m,\u001b[0m \u001b[0mnrows\u001b[0m\u001b[0;34m=\u001b[0m\u001b[0;32mNone\u001b[0m\u001b[0;34m)\u001b[0m\u001b[0;34m:\u001b[0m\u001b[0;34m\u001b[0m\u001b[0;34m\u001b[0m\u001b[0m\n\u001b[1;32m   2156\u001b[0m         \u001b[0;32mtry\u001b[0m\u001b[0;34m:\u001b[0m\u001b[0;34m\u001b[0m\u001b[0;34m\u001b[0m\u001b[0m\n\u001b[0;32m-> 2157\u001b[0;31m             \u001b[0mdata\u001b[0m \u001b[0;34m=\u001b[0m \u001b[0mself\u001b[0m\u001b[0;34m.\u001b[0m\u001b[0m_reader\u001b[0m\u001b[0;34m.\u001b[0m\u001b[0mread\u001b[0m\u001b[0;34m(\u001b[0m\u001b[0mnrows\u001b[0m\u001b[0;34m)\u001b[0m\u001b[0;34m\u001b[0m\u001b[0;34m\u001b[0m\u001b[0m\n\u001b[0m\u001b[1;32m   2158\u001b[0m         \u001b[0;32mexcept\u001b[0m \u001b[0mStopIteration\u001b[0m\u001b[0;34m:\u001b[0m\u001b[0;34m\u001b[0m\u001b[0;34m\u001b[0m\u001b[0m\n\u001b[1;32m   2159\u001b[0m             \u001b[0;32mif\u001b[0m \u001b[0mself\u001b[0m\u001b[0;34m.\u001b[0m\u001b[0m_first_chunk\u001b[0m\u001b[0;34m:\u001b[0m\u001b[0;34m\u001b[0m\u001b[0;34m\u001b[0m\u001b[0m\n",
            "\u001b[0;32mpandas/_libs/parsers.pyx\u001b[0m in \u001b[0;36mpandas._libs.parsers.TextReader.read\u001b[0;34m()\u001b[0m\n",
            "\u001b[0;32mpandas/_libs/parsers.pyx\u001b[0m in \u001b[0;36mpandas._libs.parsers.TextReader._read_low_memory\u001b[0;34m()\u001b[0m\n",
            "\u001b[0;32mpandas/_libs/parsers.pyx\u001b[0m in \u001b[0;36mpandas._libs.parsers.TextReader._read_rows\u001b[0;34m()\u001b[0m\n",
            "\u001b[0;32mpandas/_libs/parsers.pyx\u001b[0m in \u001b[0;36mpandas._libs.parsers.TextReader._tokenize_rows\u001b[0;34m()\u001b[0m\n",
            "\u001b[0;32mpandas/_libs/parsers.pyx\u001b[0m in \u001b[0;36mpandas._libs.parsers.raise_parser_error\u001b[0;34m()\u001b[0m\n",
            "\u001b[0;31mParserError\u001b[0m: Error tokenizing data. C error: Expected 1 fields in line 135, saw 5\n"
          ]
        }
      ]
    },
    {
      "cell_type": "code",
      "metadata": {
        "id": "bI60YD6MDWJ9"
      },
      "source": [
        "df.head()\n"
      ],
      "execution_count": null,
      "outputs": []
    },
    {
      "cell_type": "markdown",
      "metadata": {
        "id": "wOseJaNUDWJ_"
      },
      "source": [
        "**movie_titles_metadata.txt**\n",
        "\t\n",
        "    - contains information about each movie title\n",
        "\t- fields: \n",
        "\t\t- movieID, \n",
        "\t\t- movie title,\n",
        "\t\t- movie year, \n",
        "\t   \t- IMDB rating,\n",
        "\t\t- no. IMDB votes,\n",
        " \t\t- genres in the format ['genre1','genre2',É,'genreN']"
      ]
    },
    {
      "cell_type": "code",
      "metadata": {
        "id": "UweKVLEIDWKM"
      },
      "source": [
        "\n",
        "df.columns = ['movieID','movieTitle','movieYear','IMDBRating','IMDBVotes','genres']\n",
        "#change  columns name folowing description above"
      ],
      "execution_count": null,
      "outputs": []
    },
    {
      "cell_type": "code",
      "metadata": {
        "id": "p_6XdmsZDWKM"
      },
      "source": [
        "df.head()"
      ],
      "execution_count": null,
      "outputs": []
    },
    {
      "cell_type": "code",
      "metadata": {
        "id": "oBTUS5XPDWKN"
      },
      "source": [
        "df.shape"
      ],
      "execution_count": null,
      "outputs": []
    },
    {
      "cell_type": "code",
      "metadata": {
        "id": "0_fLrC6TDWKO"
      },
      "source": [
        "df['subURL']= 'N/A'\n",
        "#this new column will keep subtitle URL to new corpus.\n",
        "df['found']= 'N/A'\n",
        "#this new Column will help to control status\n"
      ],
      "execution_count": null,
      "outputs": []
    },
    {
      "cell_type": "code",
      "metadata": {
        "id": "rqUNo8mODWKP"
      },
      "source": [
        "df.dtypes\n"
      ],
      "execution_count": null,
      "outputs": []
    },
    {
      "cell_type": "markdown",
      "metadata": {
        "id": "JHeKrGpJDWKP"
      },
      "source": [
        "**Searching for subtitles**\n",
        "    I'll get subtitles in OpenSubtitles.org and catalog in pandas dataframe\n",
        "    "
      ]
    },
    {
      "cell_type": "code",
      "metadata": {
        "colab": {
          "base_uri": "https://localhost:8080/",
          "height": 393
        },
        "id": "sarvBTGvDWKQ",
        "outputId": "3840aa17-c894-42ba-e014-75236a5aea14"
      },
      "source": [
        "import time\n",
        "import json\n",
        "import requests\n",
        "from bs4 import BeautifulSoup\n",
        "from selenium import webdriver\n",
        "from selenium.webdriver.common.by import By\n",
        "from selenium.webdriver.common.action_chains import ActionChains\n",
        "from selenium.webdriver.support import expected_conditions\n",
        "from selenium.webdriver.support.wait import WebDriverWait\n",
        "from selenium.webdriver.common.keys import Keys\n",
        "from selenium.webdriver.common.desired_capabilities import DesiredCapabilities"
      ],
      "execution_count": 10,
      "outputs": [
        {
          "output_type": "error",
          "ename": "ModuleNotFoundError",
          "evalue": "ignored",
          "traceback": [
            "\u001b[0;31m---------------------------------------------------------------------------\u001b[0m",
            "\u001b[0;31mModuleNotFoundError\u001b[0m                       Traceback (most recent call last)",
            "\u001b[0;32m<ipython-input-10-c017797eae5a>\u001b[0m in \u001b[0;36m<module>\u001b[0;34m()\u001b[0m\n\u001b[1;32m      3\u001b[0m \u001b[0;32mimport\u001b[0m \u001b[0mrequests\u001b[0m\u001b[0;34m\u001b[0m\u001b[0;34m\u001b[0m\u001b[0m\n\u001b[1;32m      4\u001b[0m \u001b[0;32mfrom\u001b[0m \u001b[0mbs4\u001b[0m \u001b[0;32mimport\u001b[0m \u001b[0mBeautifulSoup\u001b[0m\u001b[0;34m\u001b[0m\u001b[0;34m\u001b[0m\u001b[0m\n\u001b[0;32m----> 5\u001b[0;31m \u001b[0;32mfrom\u001b[0m \u001b[0mselenium\u001b[0m \u001b[0;32mimport\u001b[0m \u001b[0mwebdriver\u001b[0m\u001b[0;34m\u001b[0m\u001b[0;34m\u001b[0m\u001b[0m\n\u001b[0m\u001b[1;32m      6\u001b[0m \u001b[0;32mfrom\u001b[0m \u001b[0mselenium\u001b[0m\u001b[0;34m.\u001b[0m\u001b[0mwebdriver\u001b[0m\u001b[0;34m.\u001b[0m\u001b[0mcommon\u001b[0m\u001b[0;34m.\u001b[0m\u001b[0mby\u001b[0m \u001b[0;32mimport\u001b[0m \u001b[0mBy\u001b[0m\u001b[0;34m\u001b[0m\u001b[0;34m\u001b[0m\u001b[0m\n\u001b[1;32m      7\u001b[0m \u001b[0;32mfrom\u001b[0m \u001b[0mselenium\u001b[0m\u001b[0;34m.\u001b[0m\u001b[0mwebdriver\u001b[0m\u001b[0;34m.\u001b[0m\u001b[0mcommon\u001b[0m\u001b[0;34m.\u001b[0m\u001b[0maction_chains\u001b[0m \u001b[0;32mimport\u001b[0m \u001b[0mActionChains\u001b[0m\u001b[0;34m\u001b[0m\u001b[0;34m\u001b[0m\u001b[0m\n",
            "\u001b[0;31mModuleNotFoundError\u001b[0m: No module named 'selenium'",
            "",
            "\u001b[0;31m---------------------------------------------------------------------------\u001b[0;32m\nNOTE: If your import is failing due to a missing package, you can\nmanually install dependencies using either !pip or !apt.\n\nTo view examples of installing some common dependencies, click the\n\"Open Examples\" button below.\n\u001b[0;31m---------------------------------------------------------------------------\u001b[0m\n"
          ],
          "errorDetails": {
            "actions": [
              {
                "action": "open_url",
                "actionText": "Open Examples",
                "url": "/notebooks/snippets/importing_libraries.ipynb"
              }
            ]
          }
        }
      ]
    },
    {
      "cell_type": "code",
      "metadata": {
        "id": "L06irIGxDWKR"
      },
      "source": [
        "driver = webdriver.Firefox()\n",
        "driver.get('https://www.opensubtitles.org/')\n",
        "\n"
      ],
      "execution_count": null,
      "outputs": []
    },
    {
      "cell_type": "code",
      "metadata": {
        "id": "YHpWO472DWKR"
      },
      "source": [
        "pd.set_option('display.max_colwidth',200)\n",
        "df['subURL']"
      ],
      "execution_count": null,
      "outputs": []
    },
    {
      "cell_type": "code",
      "metadata": {
        "id": "uZQbGWBODWKR"
      },
      "source": [
        "# Find subtitles and save them\n",
        "x = range(len(df))\n",
        "for i in x :\n",
        "  \n",
        "  driver.find_element(By.ID, \"search_text\").clear()\n",
        "  driver.implicitly_wait(1)\n",
        "  driver.find_element(By.ID, \"search_text\").send_keys(df['movieTitle'][i])\n",
        "  \n",
        "  driver.find_element(By.ID, \"search_text\").send_keys(Keys.ENTER)\n",
        "  driver.implicitly_wait(6)\n",
        "  # Check if specific DIV exists to get data instead of list->div class=\"msg\" itemscope=\"\" itemtype=\"http://schema.org/Movie\"\n",
        "  # Xpath /html/body/div[1]/div[11]\n",
        "  # CSS Selector = div.msg:nth-child(15)\n",
        "  element = driver.find_element_by_xpath(\"/html/body/div[1]/div[11]\")\n",
        "  # Xpath /html/body/div[1]/div[11]\n",
        "  # CSS Selector = div.msg:nth-child(15) \n",
        "  if len(element.text) > 0 : \n",
        "     df.loc[i,'found']= 'ok'\n",
        "  else:\n",
        "     df.loc[i,'found']= 'nok'\n",
        "    #not tested from here but can work\n",
        "     driver.find_element(By.ID, \"search_text\").clear()\n",
        "     driver.implicitly_wait(1)\n",
        "     driver.find_element(By.ID, \"search_text\").send_keys(df['movieTitle'][i]+' ('+ df['movieYear'][i]+')')\n",
        "     driver.find_element(By.ID, \"search_text\").send_keys(Keys.ENTER)\n",
        "     driver.implicitly_wait(6)\n",
        "     element = driver.find_element_by_xpath(\"/html/body/div[1]/div[11]\")\n",
        "     if len(element.text) > 0 : \n",
        "       df.loc[i,'found']= 'ok'\n",
        "     #not tested til here\n",
        "          \n",
        "  df.loc[i,'subURL']= driver.current_url\n",
        "  time.sleep(7)\n",
        "  print (i) #just to see how many lines was already read\n",
        "    \n",
        "driver.quit()"
      ],
      "execution_count": null,
      "outputs": []
    },
    {
      "cell_type": "code",
      "metadata": {
        "id": "aqsD-Ui_DWKR"
      },
      "source": [
        "#save results in CSV file\n",
        "df.to_csv(r'D:\\DeepNLP\\base\\movie_titles_metadata_URL.csv', encoding='utf-8', sep=';')"
      ],
      "execution_count": null,
      "outputs": []
    },
    {
      "cell_type": "markdown",
      "metadata": {
        "id": "D-0LZZYWDWKS"
      },
      "source": [
        "**Results and next step**\n",
        "    #1 - get all records that have in \"found\" column an \"ok\" attibute and concatenate at the end of URL \"/sort-7/asc-0\" to order the results for the most downloaded subtitles then download.\n",
        "    #2 - get all records that have in \"found\" column an \"nok\" attibute and get the correct URLs for the movies, then execute step 1\n",
        "    #3 - after a visual inspection I've marked some records with \"check\" atribute, so we need to check manually."
      ]
    },
    {
      "cell_type": "code",
      "metadata": {
        "id": "8p1-oVOsDWKS"
      },
      "source": [
        "#I did some changes and a manually inspection on file,and rename it\n",
        "#everything was marked as \"OK\" but url had \"\\sserach\\\" I change and update manually\n",
        "#load results to start to work\n",
        "df_result = pd.read_csv(r'D:\\DeepNLP\\base\\movie_titles_metadata_URL - 1stProcess.csv',  engine= 'python', sep=';')\n",
        "#df_result = pd.read_csv(r'D:\\DeepNLP\\base\\movie_titles_metadata_URL - 2ndProcess.csv',  engine= 'python', sep=';')\n"
      ],
      "execution_count": null,
      "outputs": []
    },
    {
      "cell_type": "code",
      "metadata": {
        "id": "n4xPS8XWDWKT"
      },
      "source": [
        "#some \n",
        "df_result.head(10)"
      ],
      "execution_count": null,
      "outputs": []
    },
    {
      "cell_type": "code",
      "metadata": {
        "id": "peaCDxxMDWKU"
      },
      "source": [
        "df_result.dtypes"
      ],
      "execution_count": null,
      "outputs": []
    },
    {
      "cell_type": "code",
      "metadata": {
        "id": "Ov8j0dxzDWKV"
      },
      "source": [
        ""
      ],
      "execution_count": null,
      "outputs": []
    },
    {
      "cell_type": "code",
      "metadata": {
        "id": "tyDYBrOxDWKV"
      },
      "source": [
        "\n",
        "#create new dataframe to work just with \"nok\" cases\n",
        "#found correct URL to download subtitles\n",
        "df_nok=df_result.query('found ==\"nok\"')\n"
      ],
      "execution_count": null,
      "outputs": []
    },
    {
      "cell_type": "code",
      "metadata": {
        "id": "0QDECZ32DWKV"
      },
      "source": [
        "df_nok.dtypes\n"
      ],
      "execution_count": null,
      "outputs": []
    },
    {
      "cell_type": "code",
      "metadata": {
        "id": "Cwdi7EnWDWKX"
      },
      "source": [
        "df_nok.reset_index(drop=True, inplace=True)\n",
        "df_nok.head()"
      ],
      "execution_count": null,
      "outputs": []
    },
    {
      "cell_type": "code",
      "metadata": {
        "id": "ojWaVSyhDWKX"
      },
      "source": [
        "driver = webdriver.Firefox()"
      ],
      "execution_count": null,
      "outputs": []
    },
    {
      "cell_type": "code",
      "metadata": {
        "id": "ZFCBoLxdDWKY"
      },
      "source": [
        "# find and save corret URL to download page\n",
        "element = ''\n",
        "for x in range(len(df_nok)) :\n",
        "    URL = df_nok['subURL'][x]\n",
        "    driver.get(URL)\n",
        "    elementBkp = element\n",
        "    try :\n",
        "      element = driver.find_element_by_xpath('//*[@id=\"search_results\"]')\n",
        "      html_content = element.get_attribute('outerHTML')\n",
        "      soup = BeautifulSoup(html_content, 'html.parser')\n",
        "    except:\n",
        "      element = elementBkp\n",
        "      #just a Detour\n",
        "\n",
        "    for i in range(len(soup.find_all('a'))) :        \n",
        "       if soup.find_all('a')[i].get_text().replace('\\n',' ').lower().find((df_nok['movieTitle'][x]+' ('+df_nok['movieYear'][x]+')').lower())>= 0 : \n",
        "          print(soup.find_all('a')[i],'\\n') \n",
        "          #print('https://www.opensubtitles.org'+soup.find_all('a')[i].get('href'))\n",
        "          df_result.loc[df_nok['Unnamed: 0'][x],'found']= 'upd'\n",
        "          df_result.loc[df_nok['Unnamed: 0'][x],'subURL']= 'https://www.opensubtitles.org'+soup.find_all('a')[i].get('href')  \n",
        "          break \n",
        "            "
      ],
      "execution_count": null,
      "outputs": []
    },
    {
      "cell_type": "code",
      "metadata": {
        "id": "iWqwMzdyDWKZ"
      },
      "source": [
        "df_result.to_csv(r'D:\\DeepNLP\\base\\movie_titles_metadata_URL - 2ndProcess.csv', encoding='utf-8', sep=';')"
      ],
      "execution_count": null,
      "outputs": []
    },
    {
      "cell_type": "markdown",
      "metadata": {
        "id": "1dpTjM27DWKa"
      },
      "source": [
        "**Load results**\n",
        "\n",
        "I did some changes mannualy just to check if everything is OK.\n",
        "\n",
        "I'm going to download those subtitles, that I already have URLs, save and clean those files."
      ]
    },
    {
      "cell_type": "code",
      "metadata": {
        "id": "47ASovdiDWKa"
      },
      "source": [
        "df_result = pd.read_csv(r'D:\\DeepNLP\\base\\movie_titles_metadata_URL - 2ndProcess.csv',  engine= 'python', sep=';')"
      ],
      "execution_count": null,
      "outputs": []
    },
    {
      "cell_type": "code",
      "metadata": {
        "id": "TrUWpv5CDWKb"
      },
      "source": [
        "df_ok=df_result.query('found !=\"nok\"')"
      ],
      "execution_count": null,
      "outputs": []
    },
    {
      "cell_type": "code",
      "metadata": {
        "id": "QGV4eIRUDWKb",
        "outputId": "2fc3bb7e-a5b7-4c20-f13d-40945bc43638"
      },
      "source": [
        "df_ok.reset_index(drop=True, inplace=True)\n",
        "df_ok.tail()"
      ],
      "execution_count": null,
      "outputs": [
        {
          "data": {
            "text/html": [
              "<div>\n",
              "<style scoped>\n",
              "    .dataframe tbody tr th:only-of-type {\n",
              "        vertical-align: middle;\n",
              "    }\n",
              "\n",
              "    .dataframe tbody tr th {\n",
              "        vertical-align: top;\n",
              "    }\n",
              "\n",
              "    .dataframe thead th {\n",
              "        text-align: right;\n",
              "    }\n",
              "</style>\n",
              "<table border=\"1\" class=\"dataframe\">\n",
              "  <thead>\n",
              "    <tr style=\"text-align: right;\">\n",
              "      <th></th>\n",
              "      <th>Unnamed: 0</th>\n",
              "      <th>movieID</th>\n",
              "      <th>movieTitle</th>\n",
              "      <th>movieYear</th>\n",
              "      <th>IMDBRating</th>\n",
              "      <th>IMDBVotes</th>\n",
              "      <th>genres</th>\n",
              "      <th>subURL</th>\n",
              "      <th>found</th>\n",
              "    </tr>\n",
              "  </thead>\n",
              "  <tbody>\n",
              "    <tr>\n",
              "      <th>574</th>\n",
              "      <td>612</td>\n",
              "      <td>m612</td>\n",
              "      <td>watchmen</td>\n",
              "      <td>2009</td>\n",
              "      <td>7.8</td>\n",
              "      <td>135229</td>\n",
              "      <td>['action', 'crime', 'fantasy', 'mystery', 'sci...</td>\n",
              "      <td>https://www.opensubtitles.org/pt/search/sublan...</td>\n",
              "      <td>ok</td>\n",
              "    </tr>\n",
              "    <tr>\n",
              "      <th>575</th>\n",
              "      <td>613</td>\n",
              "      <td>m613</td>\n",
              "      <td>xxx</td>\n",
              "      <td>2002</td>\n",
              "      <td>5.6</td>\n",
              "      <td>53505</td>\n",
              "      <td>['action', 'adventure', 'crime']</td>\n",
              "      <td>https://www.opensubtitles.org/pt/search/sublan...</td>\n",
              "      <td>ok</td>\n",
              "    </tr>\n",
              "    <tr>\n",
              "      <th>576</th>\n",
              "      <td>614</td>\n",
              "      <td>m614</td>\n",
              "      <td>x-men</td>\n",
              "      <td>2000</td>\n",
              "      <td>7.4</td>\n",
              "      <td>122149</td>\n",
              "      <td>['action', 'sci-fi']</td>\n",
              "      <td>https://www.opensubtitles.org/pt/search/sublan...</td>\n",
              "      <td>ok</td>\n",
              "    </tr>\n",
              "    <tr>\n",
              "      <th>577</th>\n",
              "      <td>615</td>\n",
              "      <td>m615</td>\n",
              "      <td>young frankenstein</td>\n",
              "      <td>1974</td>\n",
              "      <td>8.0</td>\n",
              "      <td>57618</td>\n",
              "      <td>['comedy', 'sci-fi']</td>\n",
              "      <td>https://www.opensubtitles.org/pt/search/sublan...</td>\n",
              "      <td>ok</td>\n",
              "    </tr>\n",
              "    <tr>\n",
              "      <th>578</th>\n",
              "      <td>616</td>\n",
              "      <td>m616</td>\n",
              "      <td>zulu dawn</td>\n",
              "      <td>1979</td>\n",
              "      <td>6.4</td>\n",
              "      <td>1911</td>\n",
              "      <td>['action', 'adventure', 'drama', 'history', 'w...</td>\n",
              "      <td>https://www.opensubtitles.org/pt/search/imdbid...</td>\n",
              "      <td>ok</td>\n",
              "    </tr>\n",
              "  </tbody>\n",
              "</table>\n",
              "</div>"
            ],
            "text/plain": [
              "     Unnamed: 0 movieID          movieTitle  movieYear  IMDBRating  IMDBVotes  \\\n",
              "574         612    m612            watchmen       2009         7.8     135229   \n",
              "575         613    m613                 xxx       2002         5.6      53505   \n",
              "576         614    m614               x-men       2000         7.4     122149   \n",
              "577         615    m615  young frankenstein       1974         8.0      57618   \n",
              "578         616    m616           zulu dawn       1979         6.4       1911   \n",
              "\n",
              "                                                genres  \\\n",
              "574  ['action', 'crime', 'fantasy', 'mystery', 'sci...   \n",
              "575                   ['action', 'adventure', 'crime']   \n",
              "576                               ['action', 'sci-fi']   \n",
              "577                               ['comedy', 'sci-fi']   \n",
              "578  ['action', 'adventure', 'drama', 'history', 'w...   \n",
              "\n",
              "                                                subURL found  \n",
              "574  https://www.opensubtitles.org/pt/search/sublan...    ok  \n",
              "575  https://www.opensubtitles.org/pt/search/sublan...    ok  \n",
              "576  https://www.opensubtitles.org/pt/search/sublan...    ok  \n",
              "577  https://www.opensubtitles.org/pt/search/sublan...    ok  \n",
              "578  https://www.opensubtitles.org/pt/search/imdbid...    ok  "
            ]
          },
          "execution_count": 5,
          "metadata": {},
          "output_type": "execute_result"
        }
      ]
    },
    {
      "cell_type": "code",
      "metadata": {
        "id": "SbJ7hsoRDWKc",
        "outputId": "2ecb807a-ef85-4e0f-a2c6-c1d442e08fb3"
      },
      "source": [
        "\n",
        "#create a new column to keep file URL.\n",
        "df_ok['subDownUrl']= 'N/A'\n"
      ],
      "execution_count": null,
      "outputs": [
        {
          "name": "stderr",
          "output_type": "stream",
          "text": [
            "C:\\ProgramData\\Anaconda3\\lib\\site-packages\\ipykernel_launcher.py:2: SettingWithCopyWarning: \n",
            "A value is trying to be set on a copy of a slice from a DataFrame.\n",
            "Try using .loc[row_indexer,col_indexer] = value instead\n",
            "\n",
            "See the caveats in the documentation: https://pandas.pydata.org/pandas-docs/stable/user_guide/indexing.html#returning-a-view-versus-a-copy\n",
            "  \n"
          ]
        }
      ]
    },
    {
      "cell_type": "code",
      "metadata": {
        "id": "pjAT5imKDWKc",
        "outputId": "cb63b7d0-aa03-4124-9693-aa4652cb7893"
      },
      "source": [
        "df_ok.dtypes"
      ],
      "execution_count": null,
      "outputs": [
        {
          "data": {
            "text/plain": [
              "Unnamed: 0      int64\n",
              "movieID        object\n",
              "movieTitle     object\n",
              "movieYear       int64\n",
              "IMDBRating    float64\n",
              "IMDBVotes       int64\n",
              "genres         object\n",
              "subURL         object\n",
              "found          object\n",
              "subDownUrl     object\n",
              "dtype: object"
            ]
          },
          "execution_count": 7,
          "metadata": {},
          "output_type": "execute_result"
        }
      ]
    },
    {
      "cell_type": "code",
      "metadata": {
        "colab": {
          "base_uri": "https://localhost:8080/",
          "height": 393
        },
        "id": "zgQJxjMNDWKe",
        "outputId": "11ede3bb-403e-467d-bd30-5d9546b6f390"
      },
      "source": [
        "import time\n",
        "import json\n",
        "import requests\n",
        "from bs4 import BeautifulSoup\n",
        "from selenium import webdriver\n",
        "from selenium.webdriver.common.by import By\n",
        "from selenium.webdriver.common.action_chains import ActionChains\n",
        "from selenium.webdriver.support.wait import WebDriverWait\n",
        "from selenium.webdriver.common.keys import Keys\n",
        "from selenium.webdriver.common.desired_capabilities import DesiredCapabilities\n",
        "from selenium.webdriver.support import expected_conditions as EC\n"
      ],
      "execution_count": 8,
      "outputs": [
        {
          "output_type": "error",
          "ename": "ModuleNotFoundError",
          "evalue": "ignored",
          "traceback": [
            "\u001b[0;31m---------------------------------------------------------------------------\u001b[0m",
            "\u001b[0;31mModuleNotFoundError\u001b[0m                       Traceback (most recent call last)",
            "\u001b[0;32m<ipython-input-8-7d10429ba3f9>\u001b[0m in \u001b[0;36m<module>\u001b[0;34m()\u001b[0m\n\u001b[1;32m      3\u001b[0m \u001b[0;32mimport\u001b[0m \u001b[0mrequests\u001b[0m\u001b[0;34m\u001b[0m\u001b[0;34m\u001b[0m\u001b[0m\n\u001b[1;32m      4\u001b[0m \u001b[0;32mfrom\u001b[0m \u001b[0mbs4\u001b[0m \u001b[0;32mimport\u001b[0m \u001b[0mBeautifulSoup\u001b[0m\u001b[0;34m\u001b[0m\u001b[0;34m\u001b[0m\u001b[0m\n\u001b[0;32m----> 5\u001b[0;31m \u001b[0;32mfrom\u001b[0m \u001b[0mselenium\u001b[0m \u001b[0;32mimport\u001b[0m \u001b[0mwebdriver\u001b[0m\u001b[0;34m\u001b[0m\u001b[0;34m\u001b[0m\u001b[0m\n\u001b[0m\u001b[1;32m      6\u001b[0m \u001b[0;32mfrom\u001b[0m \u001b[0mselenium\u001b[0m\u001b[0;34m.\u001b[0m\u001b[0mwebdriver\u001b[0m\u001b[0;34m.\u001b[0m\u001b[0mcommon\u001b[0m\u001b[0;34m.\u001b[0m\u001b[0mby\u001b[0m \u001b[0;32mimport\u001b[0m \u001b[0mBy\u001b[0m\u001b[0;34m\u001b[0m\u001b[0;34m\u001b[0m\u001b[0m\n\u001b[1;32m      7\u001b[0m \u001b[0;32mfrom\u001b[0m \u001b[0mselenium\u001b[0m\u001b[0;34m.\u001b[0m\u001b[0mwebdriver\u001b[0m\u001b[0;34m.\u001b[0m\u001b[0mcommon\u001b[0m\u001b[0;34m.\u001b[0m\u001b[0maction_chains\u001b[0m \u001b[0;32mimport\u001b[0m \u001b[0mActionChains\u001b[0m\u001b[0;34m\u001b[0m\u001b[0;34m\u001b[0m\u001b[0m\n",
            "\u001b[0;31mModuleNotFoundError\u001b[0m: No module named 'selenium'",
            "",
            "\u001b[0;31m---------------------------------------------------------------------------\u001b[0;32m\nNOTE: If your import is failing due to a missing package, you can\nmanually install dependencies using either !pip or !apt.\n\nTo view examples of installing some common dependencies, click the\n\"Open Examples\" button below.\n\u001b[0;31m---------------------------------------------------------------------------\u001b[0m\n"
          ],
          "errorDetails": {
            "actions": [
              {
                "action": "open_url",
                "actionText": "Open Examples",
                "url": "/notebooks/snippets/importing_libraries.ipynb"
              }
            ]
          }
        }
      ]
    },
    {
      "cell_type": "code",
      "metadata": {
        "id": "7PPjxegvDWKe"
      },
      "source": [
        ""
      ],
      "execution_count": null,
      "outputs": []
    },
    {
      "cell_type": "code",
      "metadata": {
        "id": "d29DwBmRDWKe"
      },
      "source": [
        "#1 concatenar \"/sort-7/asc-0\" no final da URL\n",
        "element = ''\n",
        "\n",
        "c = DesiredCapabilities.FIREFOX\n",
        "c[\"pageLoadStrategy\"] = \"none\"\n",
        "\n",
        "driver = webdriver.Firefox(desired_capabilities=c)\n",
        "#driver = webdriver.Firefox()\n",
        "for x in range(len(df_ok)) :\n",
        "    w = WebDriverWait(driver, 15)\n",
        "    URL = df_ok['subURL'][x]+'/sort-7/asc-0' # get the most downloaded subtitle.\n",
        "    print(str(x)+URL )\n",
        "    driver.get(URL)\n",
        "    elementBkp = element\n",
        "    try :\n",
        "    \n",
        "     #release the process as soon as locate the element we are looking for.\n",
        "      w.until(EC.presence_of_element_located((By.XPATH, '/html/body/div[1]/form/table/tbody/tr[2]/td[1]/strong/a')))\n",
        "      element = driver.find_element_by_xpath('/html/body/div[1]/form/table/tbody/tr[2]/td[1]/strong/a') \n",
        "      #get the exactly right Xpath to link.\n",
        "      html_content = element.get_attribute('outerHTML')\n",
        "      soup = BeautifulSoup(html_content, 'html.parser')\n",
        "      print('passou aqui')\n",
        "    except:\n",
        "      element = elementBkp\n",
        "      #just a Detour\n",
        "\n",
        "    #passo 2 Achar as URLs corretas para trabalhar \n",
        "\n",
        "    try:\n",
        "      df_ok.loc[x,'subDownUrl']= 'https://www.opensubtitles.org'+soup.find('a').get('href')\n",
        "      df_ok.loc[x,'found']= 'dwl'\n",
        "      print(soup.find('a').get('href'))\n",
        "      print('indice - '+ str(x))\n",
        "    except:\n",
        "      df_ok.loc[x,'found']= 'err'\n",
        "      print('Erro Linha'+ str(x))\n",
        "    \n",
        "    #2 criar processo de download e gravação dos arquivo\n",
        "    time.sleep(7)  \n",
        "driver.close()\n",
        "df_ok.to_csv(r'D:\\DeepNLP\\base\\movie_titles_metadata_URL - 3rdProcess.csv', encoding='utf-8', sep=';')"
      ],
      "execution_count": null,
      "outputs": []
    },
    {
      "cell_type": "markdown",
      "metadata": {
        "id": "R0coKJFJDWKf"
      },
      "source": [
        "## One last thing\n",
        "the steps above does not bring correct URL, so we have to discovery correct link\n"
      ]
    },
    {
      "cell_type": "code",
      "metadata": {
        "id": "skchPn1QDWKg"
      },
      "source": [
        ""
      ],
      "execution_count": null,
      "outputs": []
    },
    {
      "cell_type": "code",
      "metadata": {
        "id": "ieX9FxTYDWKg"
      },
      "source": [
        "import time\n",
        "import json\n",
        "import requests\n",
        "from bs4 import BeautifulSoup\n",
        "from selenium import webdriver\n",
        "from selenium.webdriver.common.by import By\n",
        "from selenium.webdriver.common.action_chains import ActionChains\n",
        "from selenium.webdriver.support.wait import WebDriverWait\n",
        "from selenium.webdriver.common.keys import Keys\n",
        "from selenium.webdriver.common.desired_capabilities import DesiredCapabilities\n",
        "from selenium.webdriver.support import expected_conditions as EC\n"
      ],
      "execution_count": null,
      "outputs": []
    },
    {
      "cell_type": "code",
      "metadata": {
        "id": "XWbP5va2DWKg"
      },
      "source": [
        "#pegar a verdadeira url de download\n",
        "element = ''\n",
        "c = DesiredCapabilities.FIREFOX\n",
        "\n",
        "c[\"pageLoadStrategy\"] = \"none\"\n",
        "\n",
        "driver = webdriver.Firefox(desired_capabilities=c)\n",
        "\n",
        "for x in range(len(df_ok)) :\n",
        "    w = WebDriverWait(driver, 15)\n",
        "    URL = df_ok['subDownUrl'][x] # get the real subtitle URL.\n",
        "    print(str(x)+URL )\n",
        "    driver.get(URL)\n",
        "    elementBkp = element\n",
        "    try :    \n",
        "     #release the process as soon as locate the element we are looking for.\n",
        "      w.until(EC.presence_of_element_located((By.XPATH, '//*[@id=\"bt-dwl-bt\"]')))\n",
        "      element = driver.find_element_by_xpath('//*[@id=\"bt-dwl-bt\"]') \n",
        "      #get the exactly right Xpath to link.\n",
        "      html_content = element.get_attribute('outerHTML')\n",
        "      soup = BeautifulSoup(html_content, 'html.parser')\n",
        "      print('passou aqui')\n",
        "    except:\n",
        "      element = elementBkp\n",
        "\n",
        "    try:\n",
        "      df_ok.loc[x,'subDownUrl']= 'https://www.opensubtitles.org'+ soup.find(id=\"bt-dwl-bt\").get('href')\n",
        "      df_ok.loc[x,'found']= 'file'\n",
        "      print(soup.find('a').get('href'))\n",
        "      print('indice - '+ str(x))\n",
        "    except:\n",
        "      df_ok.loc[x,'found']= 'err'\n",
        "      print('Erro Linha'+ str(x))\n",
        "    \n",
        "    #2 criar processo de download e gravação dos arquivo\n",
        "    time.sleep(7)\n",
        "driver.close()\n",
        "df_ok.to_csv(r'D:\\DeepNLP\\base\\movie_titles_metadata_URL - 4thProcess.csv', encoding='utf-8', sep=';')"
      ],
      "execution_count": null,
      "outputs": []
    },
    {
      "cell_type": "code",
      "metadata": {
        "id": "5iV41AEhDWKi"
      },
      "source": [
        ""
      ],
      "execution_count": null,
      "outputs": []
    },
    {
      "cell_type": "markdown",
      "metadata": {
        "id": "2yEFdk3GDWKi"
      },
      "source": [
        "**Post Processing**\n",
        "After process and finally get all subtile URLs, I check and change some lines manually, now I'll join them"
      ]
    },
    {
      "cell_type": "code",
      "metadata": {
        "id": "ybPG4QOADWKi"
      },
      "source": [
        "\n",
        "df_ok=pd.read_csv(r'D:\\DeepNLP\\base\\movie_titles_metadata_URL - 4thProcess.csv',  engine= 'python', sep=';')"
      ],
      "execution_count": null,
      "outputs": []
    },
    {
      "cell_type": "code",
      "metadata": {
        "id": "H_iKYdtvDWKj"
      },
      "source": [
        "df_ok.reset_index(drop=True, inplace=True)\n"
      ],
      "execution_count": null,
      "outputs": []
    },
    {
      "cell_type": "code",
      "metadata": {
        "id": "86hY93VXDWKj"
      },
      "source": [
        "df_full = df_result.merge(df_ok[['movieID','found','subDownUrl']], left_on='movieID', right_on='movieID' , how='left')"
      ],
      "execution_count": null,
      "outputs": []
    },
    {
      "cell_type": "code",
      "metadata": {
        "id": "I6QGNc0ADWKk",
        "outputId": "109b40ed-d26e-45aa-a03d-14bb99d5bc8a"
      },
      "source": [
        "#df_result.drop(labels='subDownUrl', axis=1,inplace=True)\n",
        "#df_full.drop(labels='found_y', axis=1,inplace=True)\n",
        "df_full.dtypes"
      ],
      "execution_count": null,
      "outputs": [
        {
          "data": {
            "text/plain": [
              "Unnamed: 0      int64\n",
              "movieID        object\n",
              "movieTitle     object\n",
              "movieYear       int64\n",
              "IMDBRating    float64\n",
              "IMDBVotes       int64\n",
              "genres         object\n",
              "subURL         object\n",
              "found_x        object\n",
              "subDownUrl     object\n",
              "dtype: object"
            ]
          },
          "execution_count": 22,
          "metadata": {},
          "output_type": "execute_result"
        }
      ]
    },
    {
      "cell_type": "code",
      "metadata": {
        "id": "fa3UBvaNDWKm"
      },
      "source": [
        "df_full.columns = ['index','movieID','movieTitle','movieYear','IMDBRating','IMDBVotes','genres','subURL','found','subDownUrl']"
      ],
      "execution_count": null,
      "outputs": []
    },
    {
      "cell_type": "code",
      "metadata": {
        "id": "6EFxaDqaDWKn"
      },
      "source": [
        "df_full.to_csv(r'D:\\DeepNLP\\base\\movie_titles_metadata_URL - Final.csv', encoding='utf-8', sep=';')"
      ],
      "execution_count": null,
      "outputs": []
    },
    {
      "cell_type": "code",
      "metadata": {
        "id": "K8ZLzyqWvOCX"
      },
      "source": [
        "df_full = pd.read_csv('https://raw.githubusercontent.com/lucsantana/movieDlgPT-BR/main/movie_titles_metadata_URL%20-%20Final.csv', sep=';')"
      ],
      "execution_count": 10,
      "outputs": []
    },
    {
      "cell_type": "code",
      "metadata": {
        "id": "wSKOd2kdDWKn"
      },
      "source": [
        "df_full.query('found==\"nok\"')"
      ],
      "execution_count": null,
      "outputs": []
    },
    {
      "cell_type": "code",
      "metadata": {
        "id": "VXu69-_YDWKo"
      },
      "source": [
        " pd.set_option(\"display.max_colwidth\", 300)"
      ],
      "execution_count": 12,
      "outputs": []
    },
    {
      "cell_type": "markdown",
      "metadata": {
        "id": "jR74e8x1DWKp"
      },
      "source": [
        "# Download and catalog files\n",
        "\n"
      ]
    },
    {
      "cell_type": "markdown",
      "metadata": {
        "id": "YIklwDIhoj1W"
      },
      "source": [
        "Step By Step\n",
        "\n",
        "\n",
        "1.   Include a new Field in Dataframe in order to save subtitle file name. - OK\n",
        "2.   Download subtitles Files - OK\n",
        "3.   Check file extention\n",
        "4.   If a Zipped file extract the file and catalog it to further manipulation.\n",
        "\n"
      ]
    },
    {
      "cell_type": "code",
      "metadata": {
        "id": "IZXwrEdBz0SR"
      },
      "source": [
        "df_full['fileName']= 'N/A'\n",
        "df_full['subFileName']='N/A'"
      ],
      "execution_count": 50,
      "outputs": []
    },
    {
      "cell_type": "code",
      "metadata": {
        "colab": {
          "base_uri": "https://localhost:8080/"
        },
        "id": "dZEkVyXfxcRj",
        "outputId": "d7288833-a3d5-419b-a482-912029b93e93"
      },
      "source": [
        "df_full.dtypes"
      ],
      "execution_count": 51,
      "outputs": [
        {
          "output_type": "execute_result",
          "data": {
            "text/plain": [
              "index            int64\n",
              "movieID         object\n",
              "movieTitle      object\n",
              "movieYear        int64\n",
              "IMDBRating     float64\n",
              "IMDBVotes        int64\n",
              "genres          object\n",
              "subURL          object\n",
              "found           object\n",
              "subDownUrl      object\n",
              "fileName        object\n",
              "subFileName     object\n",
              "dtype: object"
            ]
          },
          "metadata": {},
          "execution_count": 51
        }
      ]
    },
    {
      "cell_type": "code",
      "metadata": {
        "colab": {
          "base_uri": "https://localhost:8080/"
        },
        "id": "4v_05rtTDWKq",
        "outputId": "22f0d428-52d1-4a18-8661-f9ec8fd7f2bb"
      },
      "source": [
        "df_full['subDownUrl'].head()\n",
        "\n"
      ],
      "execution_count": 16,
      "outputs": [
        {
          "output_type": "execute_result",
          "data": {
            "text/plain": [
              "0    https://www.opensubtitles.org/pt/subtitleserve/sub/4253498\n",
              "1    https://www.opensubtitles.org/pt/subtitleserve/sub/3141352\n",
              "2     https://www.opensubtitles.org/pt/subtitleserve/sub/138875\n",
              "3    https://www.opensubtitles.org/pt/subtitleserve/sub/3173863\n",
              "4      https://www.opensubtitles.org/pt/subtitleserve/sub/84899\n",
              "Name: subDownUrl, dtype: object"
            ]
          },
          "metadata": {},
          "execution_count": 16
        }
      ]
    },
    {
      "cell_type": "code",
      "metadata": {
        "colab": {
          "base_uri": "https://localhost:8080/"
        },
        "id": "ck4hPOCYDWKr",
        "outputId": "ff4af46b-9d67-4768-a238-66bea1c3fe59"
      },
      "source": [
        "#!pip install wget"
      ],
      "execution_count": 19,
      "outputs": [
        {
          "output_type": "stream",
          "name": "stdout",
          "text": [
            "Requirement already satisfied: wget in /usr/local/lib/python3.7/dist-packages (3.2)\n"
          ]
        }
      ]
    },
    {
      "cell_type": "code",
      "metadata": {
        "id": "rGdIaNw1DWKs"
      },
      "source": [
        "import wget\n",
        "from zipfile import ZipFile"
      ],
      "execution_count": 20,
      "outputs": []
    },
    {
      "cell_type": "code",
      "metadata": {
        "colab": {
          "base_uri": "https://localhost:8080/"
        },
        "id": "gbBFpaL7wDkL",
        "outputId": "22185c19-3f6a-4f57-affb-c8a3d71eba61"
      },
      "source": [
        "# Download zip files and extract subtitles from it.\n",
        "# keep track in two new fields \"fileName\", \"subFileName\"\n",
        "\n",
        "print('Beginning file download with wget module')\n",
        "for x in range(len(df_full.head(10))) : #getting first 10 entries to test the process.\n",
        "    url = df_full.loc[x,'subDownUrl']\n",
        "    print(url+' - '+df_full.loc[x,'movieTitle'])\n",
        "    file = wget.download(url, out='/content/sub')  \n",
        "    zip = ZipFile(file, 'r')\n",
        "    for i in range(len(zip.namelist())) :\n",
        "        if re.search('srt$|sub$',str(zip.namelist()[i]).lower()) : # find the exact file in zip file based on file extension\n",
        "           print(zip.namelist()[i])\n",
        "           zip.extract(path='/content/sub' ,member=zip.namelist()[i], pwd=None)\n",
        "           df_full.loc[x,'subFileName'] ='/content/sub/'+str(zip.namelist()[i].lower())     \n",
        "    df_full.loc[x,'fileName'] = file\n",
        "print('Download is finished')"
      ],
      "execution_count": 55,
      "outputs": [
        {
          "output_type": "stream",
          "name": "stdout",
          "text": [
            "Beginning file download with wget module\n",
            "https://www.opensubtitles.org/pt/subtitleserve/sub/4253498 - 10 things i hate about you\n",
            "10.Things.I.Hate.About.You.1999.720p.BluRay.x264-SiNNERS.srt\n",
            "https://www.opensubtitles.org/pt/subtitleserve/sub/3141352 - 1492: conquest of paradise\n",
            "1492 - The Conquest Of Paradise.srt\n",
            "https://www.opensubtitles.org/pt/subtitleserve/sub/138875 - 15 minutes\n",
            "15 Minutes - by Pentha.srt\n",
            "https://www.opensubtitles.org/pt/subtitleserve/sub/3173863 - 2001: a space odyssey\n",
            "2001.A.Space.Odyssey.1968.720p.HDDVD.x264-hV.srt\n",
            "https://www.opensubtitles.org/pt/subtitleserve/sub/84899 - 48 hrs.\n",
            "48 Hrs.ubapraia74.sub\n",
            "https://www.opensubtitles.org/pt/subtitleserve/sub/4958459 - the fifth element\n",
            "The.Fifth.Element.Remastered.1997.1080p.BrRip.x264.YIFY.srt\n",
            "https://www.opensubtitles.org/pt/subtitleserve/sub/3659627 - 8mm\n",
            "8MM 1999 XviD ENG.srt\n",
            "https://www.opensubtitles.org/pt/subtitleserve/sub/44143 - a nightmare on elm street 4: the dream master\n",
            "Hora do Pesadelo 4, A.sub\n",
            "https://www.opensubtitles.org/pt/subtitleserve/sub/3589723 - a nightmare on elm street: the dream child\n",
            "A Nightmare On Elm Street 5.srt\n",
            "https://www.opensubtitles.org/pt/subtitleserve/sub/6786778 - the atomic submarine\n",
            "The.Atomic.Submarine.1959.DVDRip.x264-HANDJOB.srt\n",
            "Download is finished\n"
          ]
        }
      ]
    },
    {
      "cell_type": "code",
      "metadata": {
        "colab": {
          "base_uri": "https://localhost:8080/",
          "height": 206
        },
        "id": "fd_vfa080SbY",
        "outputId": "f68d9b6a-df51-4dec-9010-19e3331dd57a"
      },
      "source": [
        "df_full[['fileName', 'subFileName']].head()"
      ],
      "execution_count": 56,
      "outputs": [
        {
          "output_type": "execute_result",
          "data": {
            "text/html": [
              "<div>\n",
              "<style scoped>\n",
              "    .dataframe tbody tr th:only-of-type {\n",
              "        vertical-align: middle;\n",
              "    }\n",
              "\n",
              "    .dataframe tbody tr th {\n",
              "        vertical-align: top;\n",
              "    }\n",
              "\n",
              "    .dataframe thead th {\n",
              "        text-align: right;\n",
              "    }\n",
              "</style>\n",
              "<table border=\"1\" class=\"dataframe\">\n",
              "  <thead>\n",
              "    <tr style=\"text-align: right;\">\n",
              "      <th></th>\n",
              "      <th>fileName</th>\n",
              "      <th>subFileName</th>\n",
              "    </tr>\n",
              "  </thead>\n",
              "  <tbody>\n",
              "    <tr>\n",
              "      <th>0</th>\n",
              "      <td>/content/sub/10.things.i.hate.about.you.(1999).pob.1cd.(4253498).zip</td>\n",
              "      <td>/content/sub/10.things.i.hate.about.you.1999.720p.bluray.x264-sinners.srt</td>\n",
              "    </tr>\n",
              "    <tr>\n",
              "      <th>1</th>\n",
              "      <td>/content/sub/1492.conquest.of.paradise.(1992).pob.1cd.(3141352).zip</td>\n",
              "      <td>/content/sub/1492 - the conquest of paradise.srt</td>\n",
              "    </tr>\n",
              "    <tr>\n",
              "      <th>2</th>\n",
              "      <td>/content/sub/15.minutes.(2001).pob.1cd.(138875).zip</td>\n",
              "      <td>/content/sub/15 minutes - by pentha.srt</td>\n",
              "    </tr>\n",
              "    <tr>\n",
              "      <th>3</th>\n",
              "      <td>/content/sub/2001.a.space.odyssey.(1968).pob.1cd.(3173863).zip</td>\n",
              "      <td>/content/sub/2001.a.space.odyssey.1968.720p.hddvd.x264-hv.srt</td>\n",
              "    </tr>\n",
              "    <tr>\n",
              "      <th>4</th>\n",
              "      <td>/content/sub/48.hrs.(1982).pob.1cd.(84899).zip</td>\n",
              "      <td>/content/sub/48 hrs.ubapraia74.sub</td>\n",
              "    </tr>\n",
              "  </tbody>\n",
              "</table>\n",
              "</div>"
            ],
            "text/plain": [
              "                                                               fileName                                                                subFileName\n",
              "0  /content/sub/10.things.i.hate.about.you.(1999).pob.1cd.(4253498).zip  /content/sub/10.things.i.hate.about.you.1999.720p.bluray.x264-sinners.srt\n",
              "1   /content/sub/1492.conquest.of.paradise.(1992).pob.1cd.(3141352).zip                           /content/sub/1492 - the conquest of paradise.srt\n",
              "2                   /content/sub/15.minutes.(2001).pob.1cd.(138875).zip                                    /content/sub/15 minutes - by pentha.srt\n",
              "3        /content/sub/2001.a.space.odyssey.(1968).pob.1cd.(3173863).zip              /content/sub/2001.a.space.odyssey.1968.720p.hddvd.x264-hv.srt\n",
              "4                        /content/sub/48.hrs.(1982).pob.1cd.(84899).zip                                         /content/sub/48 hrs.ubapraia74.sub"
            ]
          },
          "metadata": {},
          "execution_count": 56
        }
      ]
    },
    {
      "cell_type": "code",
      "metadata": {
        "id": "DoDtYP58DWKs"
      },
      "source": [
        "\n"
      ],
      "execution_count": 24,
      "outputs": []
    },
    {
      "cell_type": "markdown",
      "metadata": {
        "id": "8x4G_4XITcDK"
      },
      "source": [
        "# Cleaning Subtitles files"
      ]
    },
    {
      "cell_type": "code",
      "metadata": {
        "id": "Hgb5E5lpUKEk"
      },
      "source": [
        ""
      ],
      "execution_count": null,
      "outputs": []
    },
    {
      "cell_type": "code",
      "metadata": {
        "id": "rqfE9rhZDWKt"
      },
      "source": [
        "#zip.filelist[0]\n",
        "#len(zip.namelist())-1\n",
        "#checar as extençoes das legendas e extrair do zip\n",
        "#ZipFile.extractall(path=None, members=nome doarquivo especifico, pwd=None)\n",
        "#zip.namelist()[0]\n",
        "#type(zip.namelist())"
      ],
      "execution_count": 58,
      "outputs": []
    },
    {
      "cell_type": "markdown",
      "metadata": {
        "id": "4I_minU7egs7"
      },
      "source": [
        "\n",
        "\n",
        "\n",
        "**Regex** \n",
        "  \n",
        "Using regex to clean subtitles files."
      ]
    },
    {
      "cell_type": "code",
      "metadata": {
        "id": "XgOklElifG_U"
      },
      "source": [
        "textSub=\"asdfas\"# load SUB file\n",
        "textSrt= \" asdfasdf\" # load SRT File"
      ],
      "execution_count": 64,
      "outputs": []
    },
    {
      "cell_type": "code",
      "metadata": {
        "id": "hhmVZl_KfGuA"
      },
      "source": [
        ""
      ],
      "execution_count": null,
      "outputs": []
    },
    {
      "cell_type": "code",
      "metadata": {
        "id": "gif9Kw0hUX6h"
      },
      "source": [
        "re.search('(..):(..):(..),(...) --> (..):(..):(..),(...)', textSrt) #if found anything, delete this line! SRT.\n",
        "re.search('^(\\d[0-9]*)$', textSrt) #if found anything, delete this line! SRT.\n",
        "\n",
        "re.search('^{(\\d{4,7})}{(\\d{4,7})}', textSub) #if found anything, delete  this part! SUB.\n",
        "\n",
        "re.search('^\\s*$',textSub) #identifica as linhas em branco. Devemos apagar todas.\n",
        "\n",
        "#tentar este codigo para deletar linhas em branco\n",
        "if re.match(r'^\\s*$', line):\n",
        "    # line is empty (has only the following: \\t\\n\\r and whitespace)\n",
        "filtered = filter(lambda x: not re.match(r'^\\s*$', x), original)\n",
        "\n"
      ],
      "execution_count": 65,
      "outputs": []
    }
  ]
}